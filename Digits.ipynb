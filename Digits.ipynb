{
  "nbformat": 4,
  "nbformat_minor": 0,
  "metadata": {
    "colab": {
      "provenance": [],
      "gpuType": "T4"
    },
    "kernelspec": {
      "name": "python3",
      "display_name": "Python 3"
    },
    "language_info": {
      "name": "python"
    },
    "accelerator": "GPU"
  },
  "cells": [
    {
      "cell_type": "code",
      "execution_count": null,
      "metadata": {
        "id": "7e9mrEi1zyBT"
      },
      "outputs": [],
      "source": [
        "import keras\n",
        "import tensorflow as tf\n",
        "import matplotlib.pyplot as plt"
      ]
    },
    {
      "cell_type": "markdown",
      "source": [
        "# Load dataset"
      ],
      "metadata": {
        "id": "8kpkLt1b680r"
      }
    },
    {
      "cell_type": "code",
      "source": [
        "from sklearn import datasets\n",
        "digits = datasets.load_digits()\n",
        "images = digits.images\n",
        "print(digits.DESCR)"
      ],
      "metadata": {
        "colab": {
          "base_uri": "https://localhost:8080/"
        },
        "id": "mOYuwz7Az8Pn",
        "outputId": "68753965-ad8c-4c41-d5f7-6abcf3b455dc"
      },
      "execution_count": null,
      "outputs": [
        {
          "output_type": "stream",
          "name": "stdout",
          "text": [
            ".. _digits_dataset:\n",
            "\n",
            "Optical recognition of handwritten digits dataset\n",
            "--------------------------------------------------\n",
            "\n",
            "**Data Set Characteristics:**\n",
            "\n",
            ":Number of Instances: 1797\n",
            ":Number of Attributes: 64\n",
            ":Attribute Information: 8x8 image of integer pixels in the range 0..16.\n",
            ":Missing Attribute Values: None\n",
            ":Creator: E. Alpaydin (alpaydin '@' boun.edu.tr)\n",
            ":Date: July; 1998\n",
            "\n",
            "This is a copy of the test set of the UCI ML hand-written digits datasets\n",
            "https://archive.ics.uci.edu/ml/datasets/Optical+Recognition+of+Handwritten+Digits\n",
            "\n",
            "The data set contains images of hand-written digits: 10 classes where\n",
            "each class refers to a digit.\n",
            "\n",
            "Preprocessing programs made available by NIST were used to extract\n",
            "normalized bitmaps of handwritten digits from a preprinted form. From a\n",
            "total of 43 people, 30 contributed to the training set and different 13\n",
            "to the test set. 32x32 bitmaps are divided into nonoverlapping blocks of\n",
            "4x4 and the number of on pixels are counted in each block. This generates\n",
            "an input matrix of 8x8 where each element is an integer in the range\n",
            "0..16. This reduces dimensionality and gives invariance to small\n",
            "distortions.\n",
            "\n",
            "For info on NIST preprocessing routines, see M. D. Garris, J. L. Blue, G.\n",
            "T. Candela, D. L. Dimmick, J. Geist, P. J. Grother, S. A. Janet, and C.\n",
            "L. Wilson, NIST Form-Based Handprint Recognition System, NISTIR 5469,\n",
            "1994.\n",
            "\n",
            ".. dropdown:: References\n",
            "\n",
            "  - C. Kaynak (1995) Methods of Combining Multiple Classifiers and Their\n",
            "    Applications to Handwritten Digit Recognition, MSc Thesis, Institute of\n",
            "    Graduate Studies in Science and Engineering, Bogazici University.\n",
            "  - E. Alpaydin, C. Kaynak (1998) Cascading Classifiers, Kybernetika.\n",
            "  - Ken Tang and Ponnuthurai N. Suganthan and Xi Yao and A. Kai Qin.\n",
            "    Linear dimensionalityreduction using relevance weighted LDA. School of\n",
            "    Electrical and Electronic Engineering Nanyang Technological University.\n",
            "    2005.\n",
            "  - Claudio Gentile. A New Approximate Maximal Margin Classification\n",
            "    Algorithm. NIPS. 2000.\n",
            "\n"
          ]
        }
      ]
    },
    {
      "cell_type": "code",
      "source": [
        "index = 17\n",
        "plt.imshow(images[index] , cmap = 'gray')\n",
        "plt.show()\n",
        "print(digits.target[index])"
      ],
      "metadata": {
        "colab": {
          "base_uri": "https://localhost:8080/",
          "height": 447
        },
        "id": "HN1U1Kx_0X77",
        "outputId": "a4fc749c-a06d-4e31-9522-87d74fbde1c3"
      },
      "execution_count": null,
      "outputs": [
        {
          "output_type": "display_data",
          "data": {
            "text/plain": [
              "<Figure size 640x480 with 1 Axes>"
            ],
            "image/png": "[encoded data removed]"
          },
          "metadata": {}
        },
        {
          "output_type": "stream",
          "name": "stdout",
          "text": [
            "7\n"
          ]
        }
      ]
    },
    {
      "cell_type": "code",
      "source": [
        "x = digits.data\n",
        "x"
      ],
      "metadata": {
        "colab": {
          "base_uri": "https://localhost:8080/"
        },
        "id": "nd8rvHIo0vla",
        "outputId": "c95a80f0-67fe-495f-c70e-60ef44d3a578"
      },
      "execution_count": null,
      "outputs": [
        {
          "output_type": "execute_result",
          "data": {
            "text/plain": [
              "array([[ 0.,  0.,  5., ...,  0.,  0.,  0.],\n",
              "       [ 0.,  0.,  0., ..., 10.,  0.,  0.],\n",
              "       [ 0.,  0.,  0., ..., 16.,  9.,  0.],\n",
              "       ...,\n",
              "       [ 0.,  0.,  1., ...,  6.,  0.,  0.],\n",
              "       [ 0.,  0.,  2., ..., 12.,  0.,  0.],\n",
              "       [ 0.,  0., 10., ..., 12.,  1.,  0.]])"
            ]
          },
          "metadata": {},
          "execution_count": 38
        }
      ]
    },
    {
      "cell_type": "code",
      "source": [
        "y = digits.target\n",
        "y"
      ],
      "metadata": {
        "colab": {
          "base_uri": "https://localhost:8080/"
        },
        "id": "48IofJl51SMY",
        "outputId": "6816eef8-d201-4e96-efc3-3a15d30dacf6"
      },
      "execution_count": null,
      "outputs": [
        {
          "output_type": "execute_result",
          "data": {
            "text/plain": [
              "array([0, 1, 2, ..., 8, 9, 8])"
            ]
          },
          "metadata": {},
          "execution_count": 39
        }
      ]
    },
    {
      "cell_type": "code",
      "source": [
        "y = keras.utils.to_categorical(y , num_classes = 10)\n",
        "y"
      ],
      "metadata": {
        "colab": {
          "base_uri": "https://localhost:8080/"
        },
        "id": "M2WTfNLZ1EqG",
        "outputId": "a60e95d1-9fa0-4410-95a9-9b27a3681569"
      },
      "execution_count": null,
      "outputs": [
        {
          "output_type": "execute_result",
          "data": {
            "text/plain": [
              "array([[1., 0., 0., ..., 0., 0., 0.],\n",
              "       [0., 1., 0., ..., 0., 0., 0.],\n",
              "       [0., 0., 1., ..., 0., 0., 0.],\n",
              "       ...,\n",
              "       [0., 0., 0., ..., 0., 1., 0.],\n",
              "       [0., 0., 0., ..., 0., 0., 1.],\n",
              "       [0., 0., 0., ..., 0., 1., 0.]])"
            ]
          },
          "metadata": {},
          "execution_count": 40
        }
      ]
    },
    {
      "cell_type": "code",
      "source": [
        "x .shape"
      ],
      "metadata": {
        "colab": {
          "base_uri": "https://localhost:8080/"
        },
        "id": "XjeaPXbx1mpq",
        "outputId": "e77cffe7-3fdd-4b6b-804d-a09f258c2b33"
      },
      "execution_count": null,
      "outputs": [
        {
          "output_type": "execute_result",
          "data": {
            "text/plain": [
              "(1797, 64)"
            ]
          },
          "metadata": {},
          "execution_count": 41
        }
      ]
    },
    {
      "cell_type": "code",
      "source": [
        "y.shape"
      ],
      "metadata": {
        "colab": {
          "base_uri": "https://localhost:8080/"
        },
        "id": "H8xPpdrP1pao",
        "outputId": "01b4540f-9936-403f-f0d4-8cb999e68de7"
      },
      "execution_count": null,
      "outputs": [
        {
          "output_type": "execute_result",
          "data": {
            "text/plain": [
              "(1797, 10)"
            ]
          },
          "metadata": {},
          "execution_count": 42
        }
      ]
    },
    {
      "cell_type": "markdown",
      "source": [
        "# Train test split"
      ],
      "metadata": {
        "id": "-omAmxnF7Av8"
      }
    },
    {
      "cell_type": "code",
      "source": [
        "from sklearn.model_selection import train_test_split\n",
        "x_train , x_test , y_train , y_test = train_test_split(x , y , test_size = 0.2)"
      ],
      "metadata": {
        "id": "gWfBpBMc1OlA"
      },
      "execution_count": null,
      "outputs": []
    },
    {
      "cell_type": "markdown",
      "source": [
        "# Neural network"
      ],
      "metadata": {
        "id": "DWftTpNq7EHA"
      }
    },
    {
      "cell_type": "code",
      "source": [
        "from keras.layers import Input , Dense , Dropout"
      ],
      "metadata": {
        "id": "nYixYI6F15N_"
      },
      "execution_count": null,
      "outputs": []
    },
    {
      "cell_type": "code",
      "source": [
        "model = keras.models.Sequential()\n",
        "model.add(Input(shape = (x.shape[1] , )))\n",
        "model.add(Dense(units = 256 , activation = 'relu'))\n",
        "model.add(Dropout(rate = 0.2))\n",
        "model.add(Dense(units = 128 , activation = 'relu'))\n",
        "model.add(Dropout(rate = 0.25))\n",
        "model.add(Dense(units = 64 , activation = 'relu'))\n",
        "model.add(Dropout(rate = 0.2))\n",
        "model.add(Dense(units = 16 , activation = 'relu'))\n",
        "model.add(Dropout(rate = 0.25))\n",
        "model.add(Dense(units = 10 , activation = 'softmax'))"
      ],
      "metadata": {
        "id": "g0U-Nuoe1uVc"
      },
      "execution_count": null,
      "outputs": []
    },
    {
      "cell_type": "code",
      "source": [
        "model.summary()"
      ],
      "metadata": {
        "colab": {
          "base_uri": "https://localhost:8080/",
          "height": 417
        },
        "id": "TFjZlQFx2Qwy",
        "outputId": "dc75d9d3-a1a2-4202-80d8-22c02aca83d6"
      },
      "execution_count": null,
      "outputs": [
        {
          "output_type": "display_data",
          "data": {
            "text/plain": [
              "\u001b[1mModel: \"sequential_3\"\u001b[0m\n"
            ],
            "text/html": [
              "<pre style=\"white-space:pre;overflow-x:auto;line-height:normal;font-family:Menlo,'DejaVu Sans Mono',consolas,'Courier New',monospace\"><span style=\"font-weight: bold\">Model: \"sequential_3\"</span>\n",
              "</pre>\n"
            ]
          },
          "metadata": {}
        },
        {
          "output_type": "display_data",
          "data": {
            "text/plain": [
              "┏━━━━━━━━━━━━━━━━━━━━━━━━━━━━━━━━━┳━━━━━━━━━━━━━━━━━━━━━━━━┳━━━━━━━━━━━━━━━┓\n",
              "┃\u001b[1m \u001b[0m\u001b[1mLayer (type)                   \u001b[0m\u001b[1m \u001b[0m┃\u001b[1m \u001b[0m\u001b[1mOutput Shape          \u001b[0m\u001b[1m \u001b[0m┃\u001b[1m \u001b[0m\u001b[1m      Param #\u001b[0m\u001b[1m \u001b[0m┃\n",
              "┡━━━━━━━━━━━━━━━━━━━━━━━━━━━━━━━━━╇━━━━━━━━━━━━━━━━━━━━━━━━╇━━━━━━━━━━━━━━━┩\n",
              "│ dense_9 (\u001b[38;5;33mDense\u001b[0m)                 │ (\u001b[38;5;45mNone\u001b[0m, \u001b[38;5;34m256\u001b[0m)            │        \u001b[38;5;34m16,640\u001b[0m │\n",
              "├─────────────────────────────────┼────────────────────────┼───────────────┤\n",
              "│ dropout_7 (\u001b[38;5;33mDropout\u001b[0m)             │ (\u001b[38;5;45mNone\u001b[0m, \u001b[38;5;34m256\u001b[0m)            │             \u001b[38;5;34m0\u001b[0m │\n",
              "├─────────────────────────────────┼────────────────────────┼───────────────┤\n",
              "│ dense_10 (\u001b[38;5;33mDense\u001b[0m)                │ (\u001b[38;5;45mNone\u001b[0m, \u001b[38;5;34m128\u001b[0m)            │        \u001b[38;5;34m32,896\u001b[0m │\n",
              "├─────────────────────────────────┼────────────────────────┼───────────────┤\n",
              "│ dropout_8 (\u001b[38;5;33mDropout\u001b[0m)             │ (\u001b[38;5;45mNone\u001b[0m, \u001b[38;5;34m128\u001b[0m)            │             \u001b[38;5;34m0\u001b[0m │\n",
              "├─────────────────────────────────┼────────────────────────┼───────────────┤\n",
              "│ dense_11 (\u001b[38;5;33mDense\u001b[0m)                │ (\u001b[38;5;45mNone\u001b[0m, \u001b[38;5;34m64\u001b[0m)             │         \u001b[38;5;34m8,256\u001b[0m │\n",
              "├─────────────────────────────────┼────────────────────────┼───────────────┤\n",
              "│ dropout_9 (\u001b[38;5;33mDropout\u001b[0m)             │ (\u001b[38;5;45mNone\u001b[0m, \u001b[38;5;34m64\u001b[0m)             │             \u001b[38;5;34m0\u001b[0m │\n",
              "├─────────────────────────────────┼────────────────────────┼───────────────┤\n",
              "│ dense_12 (\u001b[38;5;33mDense\u001b[0m)                │ (\u001b[38;5;45mNone\u001b[0m, \u001b[38;5;34m16\u001b[0m)             │         \u001b[38;5;34m1,040\u001b[0m │\n",
              "├─────────────────────────────────┼────────────────────────┼───────────────┤\n",
              "│ dropout_10 (\u001b[38;5;33mDropout\u001b[0m)            │ (\u001b[38;5;45mNone\u001b[0m, \u001b[38;5;34m16\u001b[0m)             │             \u001b[38;5;34m0\u001b[0m │\n",
              "├─────────────────────────────────┼────────────────────────┼───────────────┤\n",
              "│ dense_13 (\u001b[38;5;33mDense\u001b[0m)                │ (\u001b[38;5;45mNone\u001b[0m, \u001b[38;5;34m10\u001b[0m)             │           \u001b[38;5;34m170\u001b[0m │\n",
              "└─────────────────────────────────┴────────────────────────┴───────────────┘\n"
            ],
            "text/html": [
              "<pre style=\"white-space:pre;overflow-x:auto;line-height:normal;font-family:Menlo,'DejaVu Sans Mono',consolas,'Courier New',monospace\">┏━━━━━━━━━━━━━━━━━━━━━━━━━━━━━━━━━┳━━━━━━━━━━━━━━━━━━━━━━━━┳━━━━━━━━━━━━━━━┓\n",
              "┃<span style=\"font-weight: bold\"> Layer (type)                    </span>┃<span style=\"font-weight: bold\"> Output Shape           </span>┃<span style=\"font-weight: bold\">       Param # </span>┃\n",
              "┡━━━━━━━━━━━━━━━━━━━━━━━━━━━━━━━━━╇━━━━━━━━━━━━━━━━━━━━━━━━╇━━━━━━━━━━━━━━━┩\n",
              "│ dense_9 (<span style=\"color: #0087ff; text-decoration-color: #0087ff\">Dense</span>)                 │ (<span style=\"color: #00d7ff; text-decoration-color: #00d7ff\">None</span>, <span style=\"color: #00af00; text-decoration-color: #00af00\">256</span>)            │        <span style=\"color: #00af00; text-decoration-color: #00af00\">16,640</span> │\n",
              "├─────────────────────────────────┼────────────────────────┼───────────────┤\n",
              "│ dropout_7 (<span style=\"color: #0087ff; text-decoration-color: #0087ff\">Dropout</span>)             │ (<span style=\"color: #00d7ff; text-decoration-color: #00d7ff\">None</span>, <span style=\"color: #00af00; text-decoration-color: #00af00\">256</span>)            │             <span style=\"color: #00af00; text-decoration-color: #00af00\">0</span> │\n",
              "├─────────────────────────────────┼────────────────────────┼───────────────┤\n",
              "│ dense_10 (<span style=\"color: #0087ff; text-decoration-color: #0087ff\">Dense</span>)                │ (<span style=\"color: #00d7ff; text-decoration-color: #00d7ff\">None</span>, <span style=\"color: #00af00; text-decoration-color: #00af00\">128</span>)            │        <span style=\"color: #00af00; text-decoration-color: #00af00\">32,896</span> │\n",
              "├─────────────────────────────────┼────────────────────────┼───────────────┤\n",
              "│ dropout_8 (<span style=\"color: #0087ff; text-decoration-color: #0087ff\">Dropout</span>)             │ (<span style=\"color: #00d7ff; text-decoration-color: #00d7ff\">None</span>, <span style=\"color: #00af00; text-decoration-color: #00af00\">128</span>)            │             <span style=\"color: #00af00; text-decoration-color: #00af00\">0</span> │\n",
              "├─────────────────────────────────┼────────────────────────┼───────────────┤\n",
              "│ dense_11 (<span style=\"color: #0087ff; text-decoration-color: #0087ff\">Dense</span>)                │ (<span style=\"color: #00d7ff; text-decoration-color: #00d7ff\">None</span>, <span style=\"color: #00af00; text-decoration-color: #00af00\">64</span>)             │         <span style=\"color: #00af00; text-decoration-color: #00af00\">8,256</span> │\n",
              "├─────────────────────────────────┼────────────────────────┼───────────────┤\n",
              "│ dropout_9 (<span style=\"color: #0087ff; text-decoration-color: #0087ff\">Dropout</span>)             │ (<span style=\"color: #00d7ff; text-decoration-color: #00d7ff\">None</span>, <span style=\"color: #00af00; text-decoration-color: #00af00\">64</span>)             │             <span style=\"color: #00af00; text-decoration-color: #00af00\">0</span> │\n",
              "├─────────────────────────────────┼────────────────────────┼───────────────┤\n",
              "│ dense_12 (<span style=\"color: #0087ff; text-decoration-color: #0087ff\">Dense</span>)                │ (<span style=\"color: #00d7ff; text-decoration-color: #00d7ff\">None</span>, <span style=\"color: #00af00; text-decoration-color: #00af00\">16</span>)             │         <span style=\"color: #00af00; text-decoration-color: #00af00\">1,040</span> │\n",
              "├─────────────────────────────────┼────────────────────────┼───────────────┤\n",
              "│ dropout_10 (<span style=\"color: #0087ff; text-decoration-color: #0087ff\">Dropout</span>)            │ (<span style=\"color: #00d7ff; text-decoration-color: #00d7ff\">None</span>, <span style=\"color: #00af00; text-decoration-color: #00af00\">16</span>)             │             <span style=\"color: #00af00; text-decoration-color: #00af00\">0</span> │\n",
              "├─────────────────────────────────┼────────────────────────┼───────────────┤\n",
              "│ dense_13 (<span style=\"color: #0087ff; text-decoration-color: #0087ff\">Dense</span>)                │ (<span style=\"color: #00d7ff; text-decoration-color: #00d7ff\">None</span>, <span style=\"color: #00af00; text-decoration-color: #00af00\">10</span>)             │           <span style=\"color: #00af00; text-decoration-color: #00af00\">170</span> │\n",
              "└─────────────────────────────────┴────────────────────────┴───────────────┘\n",
              "</pre>\n"
            ]
          },
          "metadata": {}
        },
        {
          "output_type": "display_data",
          "data": {
            "text/plain": [
              "\u001b[1m Total params: \u001b[0m\u001b[38;5;34m59,002\u001b[0m (230.48 KB)\n"
            ],
            "text/html": [
              "<pre style=\"white-space:pre;overflow-x:auto;line-height:normal;font-family:Menlo,'DejaVu Sans Mono',consolas,'Courier New',monospace\"><span style=\"font-weight: bold\"> Total params: </span><span style=\"color: #00af00; text-decoration-color: #00af00\">59,002</span> (230.48 KB)\n",
              "</pre>\n"
            ]
          },
          "metadata": {}
        },
        {
          "output_type": "display_data",
          "data": {
            "text/plain": [
              "\u001b[1m Trainable params: \u001b[0m\u001b[38;5;34m59,002\u001b[0m (230.48 KB)\n"
            ],
            "text/html": [
              "<pre style=\"white-space:pre;overflow-x:auto;line-height:normal;font-family:Menlo,'DejaVu Sans Mono',consolas,'Courier New',monospace\"><span style=\"font-weight: bold\"> Trainable params: </span><span style=\"color: #00af00; text-decoration-color: #00af00\">59,002</span> (230.48 KB)\n",
              "</pre>\n"
            ]
          },
          "metadata": {}
        },
        {
          "output_type": "display_data",
          "data": {
            "text/plain": [
              "\u001b[1m Non-trainable params: \u001b[0m\u001b[38;5;34m0\u001b[0m (0.00 B)\n"
            ],
            "text/html": [
              "<pre style=\"white-space:pre;overflow-x:auto;line-height:normal;font-family:Menlo,'DejaVu Sans Mono',consolas,'Courier New',monospace\"><span style=\"font-weight: bold\"> Non-trainable params: </span><span style=\"color: #00af00; text-decoration-color: #00af00\">0</span> (0.00 B)\n",
              "</pre>\n"
            ]
          },
          "metadata": {}
        }
      ]
    },
    {
      "cell_type": "code",
      "source": [
        "model.compile(\n",
        "            optimizer = tf.optimizers.Adam() ,\n",
        "            loss = tf.losses.CategoricalCrossentropy() ,\n",
        "            metrics = [tf.metrics.CategoricalAccuracy])"
      ],
      "metadata": {
        "id": "NaSoWi6g2x9M"
      },
      "execution_count": null,
      "outputs": []
    },
    {
      "cell_type": "code",
      "source": [
        "model.fit(x_train , y_train , epochs = 100 , batch_size = 32 , verbose = 2)"
      ],
      "metadata": {
        "id": "ENxb1ueI3kXY",
        "colab": {
          "base_uri": "https://localhost:8080/"
        },
        "outputId": "aa304db5-5cfe-46f6-8b99-899e8f362ca1"
      },
      "execution_count": null,
      "outputs": [
        {
          "output_type": "stream",
          "name": "stdout",
          "text": [
            "Epoch 1/100\n",
            "45/45 - 8s - 185ms/step - categorical_accuracy: 0.1747 - loss: 2.5634\n",
            "Epoch 2/100\n",
            "45/45 - 0s - 3ms/step - categorical_accuracy: 0.3166 - loss: 1.8693\n",
            "Epoch 3/100\n",
            "45/45 - 0s - 3ms/step - categorical_accuracy: 0.5052 - loss: 1.4121\n",
            "Epoch 4/100\n",
            "45/45 - 0s - 3ms/step - categorical_accuracy: 0.6611 - loss: 1.0172\n",
            "Epoch 5/100\n",
            "45/45 - 0s - 3ms/step - categorical_accuracy: 0.7411 - loss: 0.7610\n",
            "Epoch 6/100\n",
            "45/45 - 0s - 6ms/step - categorical_accuracy: 0.7829 - loss: 0.6184\n",
            "Epoch 7/100\n",
            "45/45 - 0s - 8ms/step - categorical_accuracy: 0.8448 - loss: 0.4831\n",
            "Epoch 8/100\n",
            "45/45 - 0s - 7ms/step - categorical_accuracy: 0.8720 - loss: 0.3976\n",
            "Epoch 9/100\n",
            "45/45 - 0s - 6ms/step - categorical_accuracy: 0.8942 - loss: 0.3353\n",
            "Epoch 10/100\n",
            "45/45 - 0s - 7ms/step - categorical_accuracy: 0.8956 - loss: 0.3242\n",
            "Epoch 11/100\n",
            "45/45 - 0s - 7ms/step - categorical_accuracy: 0.9088 - loss: 0.2922\n",
            "Epoch 12/100\n",
            "45/45 - 0s - 7ms/step - categorical_accuracy: 0.9144 - loss: 0.2702\n",
            "Epoch 13/100\n",
            "45/45 - 0s - 5ms/step - categorical_accuracy: 0.9283 - loss: 0.2379\n",
            "Epoch 14/100\n",
            "45/45 - 0s - 3ms/step - categorical_accuracy: 0.9360 - loss: 0.2117\n",
            "Epoch 15/100\n",
            "45/45 - 0s - 3ms/step - categorical_accuracy: 0.9436 - loss: 0.1952\n",
            "Epoch 16/100\n",
            "45/45 - 0s - 3ms/step - categorical_accuracy: 0.9283 - loss: 0.2018\n",
            "Epoch 17/100\n",
            "45/45 - 0s - 3ms/step - categorical_accuracy: 0.9436 - loss: 0.1822\n",
            "Epoch 18/100\n",
            "45/45 - 0s - 7ms/step - categorical_accuracy: 0.9485 - loss: 0.1890\n",
            "Epoch 19/100\n",
            "45/45 - 0s - 3ms/step - categorical_accuracy: 0.9527 - loss: 0.1433\n",
            "Epoch 20/100\n",
            "45/45 - 0s - 3ms/step - categorical_accuracy: 0.9457 - loss: 0.1689\n",
            "Epoch 21/100\n",
            "45/45 - 0s - 3ms/step - categorical_accuracy: 0.9610 - loss: 0.1341\n",
            "Epoch 22/100\n",
            "45/45 - 0s - 3ms/step - categorical_accuracy: 0.9541 - loss: 0.1475\n",
            "Epoch 23/100\n",
            "45/45 - 0s - 3ms/step - categorical_accuracy: 0.9534 - loss: 0.1423\n",
            "Epoch 24/100\n",
            "45/45 - 0s - 3ms/step - categorical_accuracy: 0.9555 - loss: 0.1353\n",
            "Epoch 25/100\n",
            "45/45 - 0s - 3ms/step - categorical_accuracy: 0.9499 - loss: 0.1800\n",
            "Epoch 26/100\n",
            "45/45 - 0s - 3ms/step - categorical_accuracy: 0.9680 - loss: 0.1069\n",
            "Epoch 27/100\n",
            "45/45 - 0s - 3ms/step - categorical_accuracy: 0.9715 - loss: 0.0945\n",
            "Epoch 28/100\n",
            "45/45 - 0s - 3ms/step - categorical_accuracy: 0.9701 - loss: 0.1022\n",
            "Epoch 29/100\n",
            "45/45 - 0s - 3ms/step - categorical_accuracy: 0.9673 - loss: 0.0952\n",
            "Epoch 30/100\n",
            "45/45 - 0s - 3ms/step - categorical_accuracy: 0.9722 - loss: 0.0851\n",
            "Epoch 31/100\n",
            "45/45 - 0s - 3ms/step - categorical_accuracy: 0.9701 - loss: 0.0971\n",
            "Epoch 32/100\n",
            "45/45 - 0s - 3ms/step - categorical_accuracy: 0.9701 - loss: 0.0995\n",
            "Epoch 33/100\n",
            "45/45 - 0s - 3ms/step - categorical_accuracy: 0.9736 - loss: 0.1004\n",
            "Epoch 34/100\n",
            "45/45 - 0s - 3ms/step - categorical_accuracy: 0.9826 - loss: 0.0640\n",
            "Epoch 35/100\n",
            "45/45 - 0s - 3ms/step - categorical_accuracy: 0.9673 - loss: 0.0973\n",
            "Epoch 36/100\n",
            "45/45 - 0s - 3ms/step - categorical_accuracy: 0.9673 - loss: 0.0967\n",
            "Epoch 37/100\n",
            "45/45 - 0s - 3ms/step - categorical_accuracy: 0.9749 - loss: 0.0899\n",
            "Epoch 38/100\n",
            "45/45 - 0s - 3ms/step - categorical_accuracy: 0.9715 - loss: 0.1079\n",
            "Epoch 39/100\n",
            "45/45 - 0s - 3ms/step - categorical_accuracy: 0.9687 - loss: 0.0967\n",
            "Epoch 40/100\n",
            "45/45 - 0s - 3ms/step - categorical_accuracy: 0.9791 - loss: 0.0757\n",
            "Epoch 41/100\n",
            "45/45 - 0s - 3ms/step - categorical_accuracy: 0.9840 - loss: 0.0530\n",
            "Epoch 42/100\n",
            "45/45 - 0s - 3ms/step - categorical_accuracy: 0.9770 - loss: 0.0762\n",
            "Epoch 43/100\n",
            "45/45 - 0s - 3ms/step - categorical_accuracy: 0.9749 - loss: 0.0759\n",
            "Epoch 44/100\n",
            "45/45 - 0s - 3ms/step - categorical_accuracy: 0.9763 - loss: 0.0693\n",
            "Epoch 45/100\n",
            "45/45 - 0s - 3ms/step - categorical_accuracy: 0.9826 - loss: 0.0682\n",
            "Epoch 46/100\n",
            "45/45 - 0s - 3ms/step - categorical_accuracy: 0.9805 - loss: 0.0600\n",
            "Epoch 47/100\n",
            "45/45 - 0s - 3ms/step - categorical_accuracy: 0.9791 - loss: 0.0687\n",
            "Epoch 48/100\n",
            "45/45 - 0s - 3ms/step - categorical_accuracy: 0.9777 - loss: 0.0777\n",
            "Epoch 49/100\n",
            "45/45 - 0s - 3ms/step - categorical_accuracy: 0.9805 - loss: 0.0574\n",
            "Epoch 50/100\n",
            "45/45 - 0s - 3ms/step - categorical_accuracy: 0.9923 - loss: 0.0377\n",
            "Epoch 51/100\n",
            "45/45 - 0s - 3ms/step - categorical_accuracy: 0.9784 - loss: 0.0800\n",
            "Epoch 52/100\n",
            "45/45 - 0s - 3ms/step - categorical_accuracy: 0.9777 - loss: 0.0906\n",
            "Epoch 53/100\n",
            "45/45 - 0s - 4ms/step - categorical_accuracy: 0.9736 - loss: 0.1082\n",
            "Epoch 54/100\n",
            "45/45 - 0s - 6ms/step - categorical_accuracy: 0.9833 - loss: 0.0558\n",
            "Epoch 55/100\n",
            "45/45 - 0s - 3ms/step - categorical_accuracy: 0.9798 - loss: 0.0601\n",
            "Epoch 56/100\n",
            "45/45 - 0s - 3ms/step - categorical_accuracy: 0.9819 - loss: 0.0604\n",
            "Epoch 57/100\n",
            "45/45 - 0s - 3ms/step - categorical_accuracy: 0.9791 - loss: 0.0701\n",
            "Epoch 58/100\n",
            "45/45 - 0s - 3ms/step - categorical_accuracy: 0.9805 - loss: 0.0644\n",
            "Epoch 59/100\n",
            "45/45 - 0s - 3ms/step - categorical_accuracy: 0.9875 - loss: 0.0468\n",
            "Epoch 60/100\n",
            "45/45 - 0s - 3ms/step - categorical_accuracy: 0.9833 - loss: 0.0598\n",
            "Epoch 61/100\n",
            "45/45 - 0s - 3ms/step - categorical_accuracy: 0.9882 - loss: 0.0465\n",
            "Epoch 62/100\n",
            "45/45 - 0s - 3ms/step - categorical_accuracy: 0.9826 - loss: 0.0489\n",
            "Epoch 63/100\n",
            "45/45 - 0s - 3ms/step - categorical_accuracy: 0.9868 - loss: 0.0393\n",
            "Epoch 64/100\n",
            "45/45 - 0s - 3ms/step - categorical_accuracy: 0.9896 - loss: 0.0564\n",
            "Epoch 65/100\n",
            "45/45 - 0s - 3ms/step - categorical_accuracy: 0.9889 - loss: 0.0449\n",
            "Epoch 66/100\n",
            "45/45 - 0s - 3ms/step - categorical_accuracy: 0.9798 - loss: 0.0831\n",
            "Epoch 67/100\n",
            "45/45 - 0s - 6ms/step - categorical_accuracy: 0.9882 - loss: 0.0456\n",
            "Epoch 68/100\n",
            "45/45 - 0s - 3ms/step - categorical_accuracy: 0.9875 - loss: 0.0496\n",
            "Epoch 69/100\n",
            "45/45 - 0s - 3ms/step - categorical_accuracy: 0.9833 - loss: 0.0762\n",
            "Epoch 70/100\n",
            "45/45 - 0s - 3ms/step - categorical_accuracy: 0.9736 - loss: 0.0953\n",
            "Epoch 71/100\n",
            "45/45 - 0s - 3ms/step - categorical_accuracy: 0.9840 - loss: 0.0574\n",
            "Epoch 72/100\n",
            "45/45 - 0s - 3ms/step - categorical_accuracy: 0.9861 - loss: 0.0546\n",
            "Epoch 73/100\n",
            "45/45 - 0s - 3ms/step - categorical_accuracy: 0.9847 - loss: 0.0637\n",
            "Epoch 74/100\n",
            "45/45 - 0s - 3ms/step - categorical_accuracy: 0.9868 - loss: 0.0468\n",
            "Epoch 75/100\n",
            "45/45 - 0s - 3ms/step - categorical_accuracy: 0.9854 - loss: 0.0436\n",
            "Epoch 76/100\n",
            "45/45 - 0s - 3ms/step - categorical_accuracy: 0.9861 - loss: 0.0468\n",
            "Epoch 77/100\n",
            "45/45 - 0s - 3ms/step - categorical_accuracy: 0.9889 - loss: 0.0456\n",
            "Epoch 78/100\n",
            "45/45 - 0s - 4ms/step - categorical_accuracy: 0.9889 - loss: 0.0423\n",
            "Epoch 79/100\n",
            "45/45 - 0s - 5ms/step - categorical_accuracy: 0.9854 - loss: 0.0785\n",
            "Epoch 80/100\n",
            "45/45 - 0s - 6ms/step - categorical_accuracy: 0.9743 - loss: 0.0929\n",
            "Epoch 81/100\n",
            "45/45 - 0s - 7ms/step - categorical_accuracy: 0.9659 - loss: 0.1437\n",
            "Epoch 82/100\n",
            "45/45 - 0s - 6ms/step - categorical_accuracy: 0.9715 - loss: 0.1033\n",
            "Epoch 83/100\n",
            "45/45 - 0s - 7ms/step - categorical_accuracy: 0.9882 - loss: 0.0432\n",
            "Epoch 84/100\n",
            "45/45 - 0s - 4ms/step - categorical_accuracy: 0.9889 - loss: 0.0393\n",
            "Epoch 85/100\n",
            "45/45 - 0s - 5ms/step - categorical_accuracy: 0.9923 - loss: 0.0290\n",
            "Epoch 86/100\n",
            "45/45 - 0s - 3ms/step - categorical_accuracy: 0.9882 - loss: 0.0668\n",
            "Epoch 87/100\n",
            "45/45 - 0s - 3ms/step - categorical_accuracy: 0.9861 - loss: 0.0502\n",
            "Epoch 88/100\n",
            "45/45 - 0s - 3ms/step - categorical_accuracy: 0.9861 - loss: 0.0446\n",
            "Epoch 89/100\n",
            "45/45 - 0s - 6ms/step - categorical_accuracy: 0.9882 - loss: 0.0447\n",
            "Epoch 90/100\n",
            "45/45 - 0s - 3ms/step - categorical_accuracy: 0.9916 - loss: 0.0237\n",
            "Epoch 91/100\n",
            "45/45 - 0s - 3ms/step - categorical_accuracy: 0.9896 - loss: 0.0433\n",
            "Epoch 92/100\n",
            "45/45 - 0s - 3ms/step - categorical_accuracy: 0.9896 - loss: 0.0409\n",
            "Epoch 93/100\n",
            "45/45 - 0s - 3ms/step - categorical_accuracy: 0.9896 - loss: 0.0484\n",
            "Epoch 94/100\n",
            "45/45 - 0s - 3ms/step - categorical_accuracy: 0.9889 - loss: 0.0326\n",
            "Epoch 95/100\n",
            "45/45 - 0s - 6ms/step - categorical_accuracy: 0.9930 - loss: 0.0284\n",
            "Epoch 96/100\n",
            "45/45 - 0s - 3ms/step - categorical_accuracy: 0.9889 - loss: 0.0429\n",
            "Epoch 97/100\n",
            "45/45 - 0s - 7ms/step - categorical_accuracy: 0.9861 - loss: 0.0722\n",
            "Epoch 98/100\n",
            "45/45 - 0s - 3ms/step - categorical_accuracy: 0.9854 - loss: 0.0541\n",
            "Epoch 99/100\n",
            "45/45 - 0s - 3ms/step - categorical_accuracy: 0.9916 - loss: 0.0312\n",
            "Epoch 100/100\n",
            "45/45 - 0s - 3ms/step - categorical_accuracy: 0.9896 - loss: 0.0424\n"
          ]
        },
        {
          "output_type": "execute_result",
          "data": {
            "text/plain": [
              "<keras.src.callbacks.history.History at 0x7d5429791950>"
            ]
          },
          "metadata": {},
          "execution_count": 48
        }
      ]
    },
    {
      "cell_type": "code",
      "source": [
        "loss , acc = model.evaluate(x_test , y_test)\n",
        "loss , acc"
      ],
      "metadata": {
        "colab": {
          "base_uri": "https://localhost:8080/"
        },
        "id": "Ft7m8uuf4EW9",
        "outputId": "001c2d7b-9be2-452d-c20d-f345554742a9"
      },
      "execution_count": null,
      "outputs": [
        {
          "output_type": "stream",
          "name": "stdout",
          "text": [
            "\u001b[1m12/12\u001b[0m \u001b[32m━━━━━━━━━━━━━━━━━━━━\u001b[0m\u001b[37m\u001b[0m \u001b[1m3s\u001b[0m 96ms/step - categorical_accuracy: 0.9805 - loss: 0.0805\n"
          ]
        },
        {
          "output_type": "execute_result",
          "data": {
            "text/plain": [
              "(0.09884391725063324, 0.9777777791023254)"
            ]
          },
          "metadata": {},
          "execution_count": 49
        }
      ]
    },
    {
      "cell_type": "code",
      "source": [
        "y_pred = model.predict(x_test)"
      ],
      "metadata": {
        "colab": {
          "base_uri": "https://localhost:8080/"
        },
        "id": "hMBNbfFT4Vpf",
        "outputId": "82a0455b-c2b0-4da7-f196-596bb17f8f46"
      },
      "execution_count": null,
      "outputs": [
        {
          "output_type": "stream",
          "name": "stdout",
          "text": [
            "\u001b[1m12/12\u001b[0m \u001b[32m━━━━━━━━━━━━━━━━━━━━\u001b[0m\u001b[37m\u001b[0m \u001b[1m0s\u001b[0m 4ms/step \n"
          ]
        }
      ]
    },
    {
      "cell_type": "code",
      "source": [
        "y_pred = tf.argmax(y_pred , axis = 1)\n",
        "y_pred"
      ],
      "metadata": {
        "colab": {
          "base_uri": "https://localhost:8080/"
        },
        "id": "4sBw3qjO4csb",
        "outputId": "ab18b213-260d-42bf-f0e0-c4fc51dc7f00"
      },
      "execution_count": null,
      "outputs": [
        {
          "output_type": "execute_result",
          "data": {
            "text/plain": [
              "<tf.Tensor: shape=(360,), dtype=int64, numpy=\n",
              "array([8, 3, 3, 6, 0, 4, 7, 5, 3, 9, 6, 3, 8, 0, 0, 5, 2, 2, 3, 6, 4, 3,\n",
              "       5, 7, 1, 4, 8, 1, 6, 6, 1, 3, 3, 0, 5, 4, 4, 6, 5, 1, 0, 2, 7, 0,\n",
              "       5, 3, 5, 0, 3, 1, 0, 9, 6, 9, 4, 4, 4, 5, 5, 2, 7, 2, 9, 6, 9, 9,\n",
              "       9, 6, 8, 1, 3, 1, 5, 2, 7, 4, 3, 7, 3, 5, 4, 1, 8, 8, 7, 1, 4, 9,\n",
              "       3, 5, 3, 1, 7, 4, 7, 4, 0, 0, 6, 6, 2, 2, 5, 6, 1, 1, 0, 7, 6, 0,\n",
              "       0, 5, 2, 7, 6, 3, 8, 2, 6, 7, 1, 7, 3, 5, 3, 6, 1, 1, 1, 0, 1, 0,\n",
              "       1, 7, 2, 6, 8, 0, 5, 5, 5, 7, 7, 9, 4, 7, 8, 9, 3, 0, 0, 2, 4, 4,\n",
              "       5, 0, 2, 1, 8, 9, 1, 2, 6, 5, 9, 5, 9, 5, 2, 0, 4, 6, 9, 7, 3, 4,\n",
              "       1, 1, 5, 1, 1, 0, 5, 0, 5, 3, 0, 3, 7, 5, 8, 3, 6, 1, 3, 2, 8, 8,\n",
              "       0, 8, 5, 5, 5, 6, 8, 7, 8, 8, 3, 0, 2, 6, 7, 2, 1, 8, 5, 2, 6, 3,\n",
              "       6, 0, 2, 6, 2, 4, 8, 7, 5, 5, 6, 6, 5, 3, 0, 4, 7, 9, 0, 6, 8, 6,\n",
              "       7, 9, 1, 8, 4, 6, 6, 3, 3, 0, 4, 4, 3, 8, 1, 7, 3, 1, 7, 4, 4, 5,\n",
              "       3, 3, 4, 6, 0, 8, 9, 4, 0, 2, 7, 8, 1, 4, 3, 4, 3, 9, 9, 3, 3, 8,\n",
              "       8, 2, 7, 4, 2, 8, 6, 7, 7, 9, 8, 2, 4, 5, 4, 6, 4, 4, 5, 9, 8, 1,\n",
              "       1, 2, 2, 4, 0, 7, 0, 5, 1, 4, 7, 5, 7, 8, 2, 7, 9, 4, 1, 6, 7, 6,\n",
              "       2, 5, 5, 0, 7, 2, 9, 1, 6, 4, 2, 9, 8, 8, 1, 2, 8, 6, 2, 4, 7, 3,\n",
              "       7, 0, 5, 4, 7, 9, 0, 2])>"
            ]
          },
          "metadata": {},
          "execution_count": 52
        }
      ]
    },
    {
      "cell_type": "code",
      "source": [
        "y_test = tf.argmax(y_test , axis = 1)\n",
        "y_test"
      ],
      "metadata": {
        "colab": {
          "base_uri": "https://localhost:8080/"
        },
        "id": "ZA71O-mm4o3M",
        "outputId": "d0feb93b-01ec-4896-e537-365648192c96"
      },
      "execution_count": null,
      "outputs": [
        {
          "output_type": "execute_result",
          "data": {
            "text/plain": [
              "<tf.Tensor: shape=(360,), dtype=int64, numpy=\n",
              "array([8, 3, 3, 6, 0, 4, 7, 5, 3, 9, 6, 3, 8, 0, 0, 5, 2, 2, 3, 6, 4, 3,\n",
              "       5, 7, 1, 4, 8, 1, 6, 6, 1, 3, 3, 0, 5, 4, 4, 6, 5, 1, 0, 2, 7, 0,\n",
              "       5, 3, 5, 0, 3, 1, 0, 9, 6, 4, 4, 4, 4, 5, 5, 2, 7, 2, 9, 6, 9, 9,\n",
              "       9, 6, 8, 1, 3, 1, 5, 2, 7, 4, 3, 7, 3, 5, 4, 1, 8, 8, 7, 8, 4, 9,\n",
              "       3, 5, 3, 1, 7, 4, 7, 4, 0, 0, 6, 6, 2, 8, 5, 6, 1, 1, 0, 7, 6, 0,\n",
              "       0, 5, 2, 7, 6, 3, 8, 2, 6, 7, 1, 7, 3, 5, 3, 6, 1, 1, 1, 0, 1, 0,\n",
              "       1, 7, 2, 6, 8, 0, 5, 5, 5, 7, 7, 9, 4, 7, 8, 9, 3, 0, 0, 2, 4, 4,\n",
              "       5, 0, 2, 1, 8, 9, 1, 2, 6, 5, 9, 5, 9, 5, 2, 0, 4, 6, 9, 7, 3, 4,\n",
              "       1, 1, 5, 1, 1, 0, 5, 0, 5, 3, 0, 3, 7, 5, 8, 3, 6, 1, 3, 2, 8, 8,\n",
              "       0, 8, 5, 9, 5, 6, 8, 7, 8, 3, 3, 0, 2, 6, 7, 2, 1, 8, 5, 2, 6, 3,\n",
              "       6, 0, 2, 6, 2, 4, 8, 7, 5, 5, 6, 6, 5, 3, 0, 4, 7, 9, 0, 6, 8, 6,\n",
              "       7, 9, 8, 8, 4, 6, 6, 3, 3, 0, 4, 4, 3, 8, 1, 7, 3, 1, 7, 4, 4, 5,\n",
              "       3, 3, 4, 6, 0, 8, 9, 4, 0, 2, 7, 8, 1, 4, 3, 4, 3, 9, 9, 3, 3, 8,\n",
              "       8, 2, 7, 4, 2, 8, 6, 7, 7, 9, 8, 2, 4, 5, 4, 6, 4, 4, 5, 5, 8, 1,\n",
              "       1, 2, 2, 4, 0, 7, 0, 5, 1, 4, 8, 5, 7, 8, 2, 7, 9, 4, 1, 6, 7, 6,\n",
              "       2, 5, 5, 0, 7, 2, 9, 1, 6, 4, 2, 9, 8, 8, 1, 2, 8, 6, 2, 4, 7, 3,\n",
              "       7, 0, 5, 4, 7, 9, 0, 2])>"
            ]
          },
          "metadata": {},
          "execution_count": 53
        }
      ]
    },
    {
      "cell_type": "code",
      "source": [
        "y_pred = y_pred.numpy()\n",
        "y_test = y_test.numpy()"
      ],
      "metadata": {
        "id": "yldOHeSi4sac"
      },
      "execution_count": null,
      "outputs": []
    },
    {
      "cell_type": "code",
      "source": [
        "(y_pred != y_test).sum() / len(y_test)"
      ],
      "metadata": {
        "colab": {
          "base_uri": "https://localhost:8080/"
        },
        "id": "6KRkKmWM4uef",
        "outputId": "62458c86-91fc-44c1-a144-78a9274d2471"
      },
      "execution_count": null,
      "outputs": [
        {
          "output_type": "execute_result",
          "data": {
            "text/plain": [
              "np.float64(0.022222222222222223)"
            ]
          },
          "metadata": {},
          "execution_count": 58
        }
      ]
    },
    {
      "cell_type": "markdown",
      "source": [
        "# Manual test"
      ],
      "metadata": {
        "id": "gvM3dhLc7QVn"
      }
    },
    {
      "cell_type": "code",
      "source": [
        "import random"
      ],
      "metadata": {
        "id": "EduhBn9j5ptQ"
      },
      "execution_count": null,
      "outputs": []
    },
    {
      "cell_type": "code",
      "source": [
        "test_index = random.randint(0 , len(y_test) - 1)\n",
        "test_index"
      ],
      "metadata": {
        "colab": {
          "base_uri": "https://localhost:8080/"
        },
        "id": "_x6Zpx824zmS",
        "outputId": "8402099a-701a-48f5-bf8c-c3af6eee854f"
      },
      "execution_count": null,
      "outputs": [
        {
          "output_type": "execute_result",
          "data": {
            "text/plain": [
              "156"
            ]
          },
          "metadata": {},
          "execution_count": 69
        }
      ]
    },
    {
      "cell_type": "code",
      "source": [
        "plt.imshow(images[test_index] , cmap = 'gray')\n",
        "plt.show()\n",
        "print(digits.target[test_index])"
      ],
      "metadata": {
        "colab": {
          "base_uri": "https://localhost:8080/",
          "height": 447
        },
        "id": "-JPIxPIN5nDX",
        "outputId": "f961039d-8550-45e1-c9f9-c9fd79d2b670"
      },
      "execution_count": null,
      "outputs": [
        {
          "output_type": "display_data",
          "data": {
            "text/plain": [
              "<Figure size 640x480 with 1 Axes>"
            ],
            "image/png": "[encoded data removed]"
          },
          "metadata": {}
        },
        {
          "output_type": "stream",
          "name": "stdout",
          "text": [
            "6\n"
          ]
        }
      ]
    },
    {
      "cell_type": "code",
      "source": [
        "y_pred = model.predict(x[test_index].reshape(1 , -1))"
      ],
      "metadata": {
        "colab": {
          "base_uri": "https://localhost:8080/"
        },
        "id": "nsxKsVQe50ac",
        "outputId": "11b92e36-a029-4049-bdc9-037ca2457401"
      },
      "execution_count": null,
      "outputs": [
        {
          "output_type": "stream",
          "name": "stdout",
          "text": [
            "\u001b[1m1/1\u001b[0m \u001b[32m━━━━━━━━━━━━━━━━━━━━\u001b[0m\u001b[37m\u001b[0m \u001b[1m1s\u001b[0m 1s/step\n"
          ]
        }
      ]
    },
    {
      "cell_type": "code",
      "source": [
        "y[test_index].argmax()"
      ],
      "metadata": {
        "colab": {
          "base_uri": "https://localhost:8080/"
        },
        "id": "PBT3jfrP6Xq0",
        "outputId": "43f99af4-9f2d-4ff5-981b-d6c56e3f9171"
      },
      "execution_count": null,
      "outputs": [
        {
          "output_type": "execute_result",
          "data": {
            "text/plain": [
              "np.int64(6)"
            ]
          },
          "metadata": {},
          "execution_count": 77
        }
      ]
    },
    {
      "cell_type": "code",
      "source": [
        "y_pred.argmax()"
      ],
      "metadata": {
        "colab": {
          "base_uri": "https://localhost:8080/"
        },
        "id": "UjaGcSbs6uzZ",
        "outputId": "1f4dab2f-55ed-4129-88d5-e909b0ddd9f3"
      },
      "execution_count": null,
      "outputs": [
        {
          "output_type": "execute_result",
          "data": {
            "text/plain": [
              "np.int64(6)"
            ]
          },
          "metadata": {},
          "execution_count": 79
        }
      ]
    },
    {
      "cell_type": "code",
      "source": [],
      "metadata": {
        "id": "jSOCXR3A66sR"
      },
      "execution_count": null,
      "outputs": []
    }
  ]
}